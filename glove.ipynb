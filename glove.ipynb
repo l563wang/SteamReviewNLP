{
 "cells": [
  {
   "cell_type": "code",
   "execution_count": 6,
   "metadata": {},
   "outputs": [],
   "source": [
    "import numpy as np \n",
    "import pandas as pd\n",
    "import nltk\n",
    "from nltk.corpus import stopwords\n",
    "import matplotlib.pyplot as plt\n",
    "from wordcloud import WordCloud"
   ]
  },
  {
   "cell_type": "code",
   "execution_count": 7,
   "metadata": {},
   "outputs": [
    {
     "name": "stderr",
     "output_type": "stream",
     "text": [
      "[nltk_data] Downloading package stopwords to /Users/apple/nltk_data...\n",
      "[nltk_data]   Unzipping corpora/stopwords.zip.\n"
     ]
    }
   ],
   "source": [
    "nltk.download('stopwords')\n",
    "stop = set(stopwords.words('english'))"
   ]
  },
  {
   "cell_type": "code",
   "execution_count": 10,
   "metadata": {},
   "outputs": [],
   "source": [
    "train = pd.read_csv('dataset/data.csv')"
   ]
  },
  {
   "cell_type": "code",
   "execution_count": 11,
   "metadata": {},
   "outputs": [
    {
     "data": {
      "text/html": [
       "<div>\n",
       "<style scoped>\n",
       "    .dataframe tbody tr th:only-of-type {\n",
       "        vertical-align: middle;\n",
       "    }\n",
       "\n",
       "    .dataframe tbody tr th {\n",
       "        vertical-align: top;\n",
       "    }\n",
       "\n",
       "    .dataframe thead th {\n",
       "        text-align: right;\n",
       "    }\n",
       "</style>\n",
       "<table border=\"1\" class=\"dataframe\">\n",
       "  <thead>\n",
       "    <tr style=\"text-align: right;\">\n",
       "      <th></th>\n",
       "      <th>game_id</th>\n",
       "      <th>game_name</th>\n",
       "      <th>recommendation_id</th>\n",
       "      <th>user_id</th>\n",
       "      <th>num_games_owned</th>\n",
       "      <th>num_reviews</th>\n",
       "      <th>playtime_forever</th>\n",
       "      <th>playtime_at_review</th>\n",
       "      <th>review</th>\n",
       "      <th>timestamp_updated</th>\n",
       "      <th>voted_up</th>\n",
       "      <th>votes_up</th>\n",
       "      <th>votes_funny</th>\n",
       "      <th>weighted_vote_score</th>\n",
       "      <th>comment_count</th>\n",
       "      <th>steam_purchase</th>\n",
       "      <th>received_for_free</th>\n",
       "      <th>written_during_early_access</th>\n",
       "    </tr>\n",
       "  </thead>\n",
       "  <tbody>\n",
       "    <tr>\n",
       "      <th>0</th>\n",
       "      <td>1097150</td>\n",
       "      <td>Fall Guys</td>\n",
       "      <td>73899674</td>\n",
       "      <td>76561198104502231</td>\n",
       "      <td>52</td>\n",
       "      <td>22</td>\n",
       "      <td>658</td>\n",
       "      <td>253</td>\n",
       "      <td>I gave a little Hug to a player, he stared bac...</td>\n",
       "      <td>1596781693</td>\n",
       "      <td>1</td>\n",
       "      <td>984</td>\n",
       "      <td>1451</td>\n",
       "      <td>0.947646</td>\n",
       "      <td>0</td>\n",
       "      <td>1</td>\n",
       "      <td>0</td>\n",
       "      <td>0</td>\n",
       "    </tr>\n",
       "    <tr>\n",
       "      <th>1</th>\n",
       "      <td>1097150</td>\n",
       "      <td>Fall Guys</td>\n",
       "      <td>73735619</td>\n",
       "      <td>76561198142247081</td>\n",
       "      <td>488</td>\n",
       "      <td>131</td>\n",
       "      <td>751</td>\n",
       "      <td>8</td>\n",
       "      <td>It's nice to have BR that's just about having ...</td>\n",
       "      <td>1596526002</td>\n",
       "      <td>1</td>\n",
       "      <td>2634</td>\n",
       "      <td>173</td>\n",
       "      <td>0.947115</td>\n",
       "      <td>18</td>\n",
       "      <td>1</td>\n",
       "      <td>0</td>\n",
       "      <td>0</td>\n",
       "    </tr>\n",
       "    <tr>\n",
       "      <th>2</th>\n",
       "      <td>1097150</td>\n",
       "      <td>Fall Guys</td>\n",
       "      <td>73738009</td>\n",
       "      <td>76561198041994478</td>\n",
       "      <td>1352</td>\n",
       "      <td>15</td>\n",
       "      <td>366</td>\n",
       "      <td>80</td>\n",
       "      <td>This game is fantastic. The devs are super inv...</td>\n",
       "      <td>1596529738</td>\n",
       "      <td>1</td>\n",
       "      <td>985</td>\n",
       "      <td>39</td>\n",
       "      <td>0.942068</td>\n",
       "      <td>1</td>\n",
       "      <td>1</td>\n",
       "      <td>0</td>\n",
       "      <td>0</td>\n",
       "    </tr>\n",
       "    <tr>\n",
       "      <th>3</th>\n",
       "      <td>1097150</td>\n",
       "      <td>Fall Guys</td>\n",
       "      <td>73848436</td>\n",
       "      <td>76561198025307988</td>\n",
       "      <td>1795</td>\n",
       "      <td>3</td>\n",
       "      <td>1672</td>\n",
       "      <td>866</td>\n",
       "      <td>Fun in short bursts, tedious in long stretches...</td>\n",
       "      <td>1596693931</td>\n",
       "      <td>1</td>\n",
       "      <td>613</td>\n",
       "      <td>7</td>\n",
       "      <td>0.935590</td>\n",
       "      <td>12</td>\n",
       "      <td>0</td>\n",
       "      <td>1</td>\n",
       "      <td>0</td>\n",
       "    </tr>\n",
       "    <tr>\n",
       "      <th>4</th>\n",
       "      <td>1097150</td>\n",
       "      <td>Fall Guys</td>\n",
       "      <td>73781849</td>\n",
       "      <td>76561198089118754</td>\n",
       "      <td>50</td>\n",
       "      <td>2</td>\n",
       "      <td>203</td>\n",
       "      <td>30</td>\n",
       "      <td>wish there was an 8 party option</td>\n",
       "      <td>1596587937</td>\n",
       "      <td>1</td>\n",
       "      <td>553</td>\n",
       "      <td>6</td>\n",
       "      <td>0.935560</td>\n",
       "      <td>0</td>\n",
       "      <td>0</td>\n",
       "      <td>0</td>\n",
       "      <td>0</td>\n",
       "    </tr>\n",
       "  </tbody>\n",
       "</table>\n",
       "</div>"
      ],
      "text/plain": [
       "   game_id  game_name  recommendation_id            user_id  num_games_owned  \\\n",
       "0  1097150  Fall Guys           73899674  76561198104502231               52   \n",
       "1  1097150  Fall Guys           73735619  76561198142247081              488   \n",
       "2  1097150  Fall Guys           73738009  76561198041994478             1352   \n",
       "3  1097150  Fall Guys           73848436  76561198025307988             1795   \n",
       "4  1097150  Fall Guys           73781849  76561198089118754               50   \n",
       "\n",
       "   num_reviews  playtime_forever  playtime_at_review  \\\n",
       "0           22               658                 253   \n",
       "1          131               751                   8   \n",
       "2           15               366                  80   \n",
       "3            3              1672                 866   \n",
       "4            2               203                  30   \n",
       "\n",
       "                                              review  timestamp_updated  \\\n",
       "0  I gave a little Hug to a player, he stared bac...         1596781693   \n",
       "1  It's nice to have BR that's just about having ...         1596526002   \n",
       "2  This game is fantastic. The devs are super inv...         1596529738   \n",
       "3  Fun in short bursts, tedious in long stretches...         1596693931   \n",
       "4                   wish there was an 8 party option         1596587937   \n",
       "\n",
       "   voted_up  votes_up  votes_funny  weighted_vote_score  comment_count  \\\n",
       "0         1       984         1451             0.947646              0   \n",
       "1         1      2634          173             0.947115             18   \n",
       "2         1       985           39             0.942068              1   \n",
       "3         1       613            7             0.935590             12   \n",
       "4         1       553            6             0.935560              0   \n",
       "\n",
       "   steam_purchase  received_for_free  written_during_early_access  \n",
       "0               1                  0                            0  \n",
       "1               1                  0                            0  \n",
       "2               1                  0                            0  \n",
       "3               0                  1                            0  \n",
       "4               0                  0                            0  "
      ]
     },
     "execution_count": 11,
     "metadata": {},
     "output_type": "execute_result"
    }
   ],
   "source": [
    "train.head()"
   ]
  },
  {
   "cell_type": "code",
   "execution_count": 13,
   "metadata": {},
   "outputs": [
    {
     "name": "stdout",
     "output_type": "stream",
     "text": [
      "Percent of positive entries 83.792 %\n"
     ]
    },
    {
     "data": {
      "image/png": "[encoded data removed]",
      "text/plain": [
       "<Figure size 432x288 with 1 Axes>"
      ]
     },
     "metadata": {
      "needs_background": "light"
     },
     "output_type": "display_data"
    }
   ],
   "source": [
    "fig,ax = plt.subplots(1,1)\n",
    "train.hist(column = 'voted_up', ax = ax)\n",
    "ax.set_title('Number of entries classified as negative vs positive')\n",
    "ax.set_xticks([0,1])\n",
    "print('Percent of positive entries %.3f %%'%(100*(sum(train['voted_up'])/len(train))))"
   ]
  },
  {
   "cell_type": "code",
   "execution_count": 14,
   "metadata": {},
   "outputs": [
    {
     "name": "stdout",
     "output_type": "stream",
     "text": [
      "GloVe data loaded\n"
     ]
    }
   ],
   "source": [
    "embeddings_index = {}\n",
    "f = open('glove.6B/glove.6B.300d.txt')\n",
    "for line in f:\n",
    "    values = line.split(' ')\n",
    "    word = values[0] \n",
    "    coefs = np.asarray(values[1:], dtype='float32') \n",
    "    embeddings_index[word] = coefs\n",
    "f.close()\n",
    "\n",
    "print('GloVe data loaded')"
   ]
  },
  {
   "cell_type": "code",
   "execution_count": 17,
   "metadata": {},
   "outputs": [
    {
     "name": "stdout",
     "output_type": "stream",
     "text": [
      "[['gave', 'little', 'hug', 'player', 'stared', 'back', '5', 'seconds', 'jumped', 'map', 'killed', 'never', 'felt', 'much', 'power', 'moment'], ['nice', 'br', 'fun', '10', '10', 'would', 'fall'], ['game', 'fantastic', 'devs', 'super', 'involved', 'community', 'future', 'seems', 'really', 'bright', 'takeshi', 'castle', 'influence', 'strong', 'fans', 'show', 'practically', 'hugging', 'simulator'], ['fun', 'short', 'bursts', 'tedious', 'long', 'stretches', 'moment', '75', 'minigames', 'need', 'sort', 'rework', 'early', 'game', 'race', 'maps', 'need', 'random', 'factors', 'make', 'replays', 'feel', 'varied', 'unpredictable', 'punishing', 'since', 'first', 'levels', 'survival', 'games', 'like', 'roll', 'block', 'party', 'perfect', 'match', 'need', 'always', 'end', 'based', 'eliminations', 'need', 'faster', 'harder', 'right', 'easy', 'chore', 'team', 'games', 'basically', 'random', 'chance', 'takes', '3', 'minutes', 'determine', 'whether', 'team', 'performance', 'irrelevant', 'individual', 'one', 'teams', 'also', 'uneven', 'making', 'random', 'chance', 'even', 'lower', 'fall', 'ball', 'also', 'incredibly', 'common', 'flexible', 'player', 'count', 'requirement', 'absolutely', 'sick', 'minigame', 'worst', 'need', 'game', 'mode', 'separate', 'game', 'modes', 'right', '3', 'final', 'levels', 'fall', 'mountain', 'race', 'often', 'person', 'lead', 'stays', 'lead', 'enough', 'factors', 'mix', 'player', 'positions', 'royal', 'fumble', 'basically', 'luck', 'based', 'depending', 'whoever', 'cluster', 'manages', 'grab', 'tail', 'within', 'last', '5', 'seconds', 'hex', 'gone', 'actually', 'really', 'good', 'make', 'better', 'transferring', 'survival', 'games', 'making', 'progressively', 'faster', 'one', 'person', 'left', 'standing', 'minigame', 'problems', 'could', 'alleviated', 'games', 'though', 'lose', 'random', 'chance', 'could', 'least', 'look', 'forward', 'new', 'games', 'play', 'next', 'round', 'since', 'things', 'repeated', 'often', 'many', 'maps', 'feel', 'like', 'chore', 'number', 'levels', 'increasing', 'likely', 'become', 'case', 'time', 'goes', 'moment', 'fall', 'guys', 'biggest', 'problem', 'kind', 'visual', 'variety', 'maps', 'would', 'appreciated', '10', 'hours', 'play', 'bright', 'colors', 'tiring', 'none', 'levels', 'stand', 'unique', 'creative', 'game', 'also', 'microtransactions', 'kinda', 'inherently', 'sucks', 'enough', 'variety', 'customization', 'options', 'costumes', 'really', 'make', 'unique', 'stand', 'every', 'gordon', 'freeman', 'costume', 'wearer', 'looks', 'excluding', 'face', 'color', 'regardless', 'pattern', 'color', 'hopefully', 'fixed', 'content', 'added', 'time', 'review', 'sounds', 'negative', 'much', 'fun', 'playing', 'much', 'potential', 'future', 'think', 'would', 'good', 'game', 'support', 'maybe', 'play', 'moderation', 'right', 'think', 'repetitiveness', 'maps', 'much', 'hold', 'goal', 'review', 'become', 'outdated', 'simply', 'adding', 'substantial', 'amount', 'new', 'minigames', 'goal', 'achieved', 'genuinely', 'think', 'game', 'might', 'become', 'one', 'favorites'], ['wish', '8', 'party', 'option']]\n"
     ]
    }
   ],
   "source": [
    "import re\n",
    "## Iterate over the data to preprocess by removing stopwords\n",
    "lines_without_stopwords=[] \n",
    "for line in train['review'].values: \n",
    "    line = str(line).lower()\n",
    "    line_by_words = re.findall(r'(?:\\w+)', line, flags = re.UNICODE) # remove punctuation ans split\n",
    "    new_line=[]\n",
    "    for word in line_by_words:\n",
    "        if word not in stop:\n",
    "            new_line.append(word)\n",
    "    lines_without_stopwords.append(new_line)\n",
    "texts = lines_without_stopwords\n",
    "\n",
    "print(texts[0:5])"
   ]
  },
  {
   "cell_type": "code",
   "execution_count": 19,
   "metadata": {},
   "outputs": [
    {
     "name": "stdout",
     "output_type": "stream",
     "text": [
      "Found 25501 unique tokens.\n",
      "(14036, 100)\n",
      "(14036, 2)\n"
     ]
    }
   ],
   "source": [
    "from keras.preprocessing.text import Tokenizer\n",
    "from keras.preprocessing.sequence import pad_sequences\n",
    "from keras.utils import to_categorical\n",
    "MAX_NUM_WORDS = 1000\n",
    "MAX_SEQUENCE_LENGTH = 100\n",
    "tokenizer = Tokenizer(num_words=MAX_NUM_WORDS)\n",
    "tokenizer.fit_on_texts(texts)\n",
    "sequences = tokenizer.texts_to_sequences(texts)\n",
    "\n",
    "word_index = tokenizer.word_index\n",
    "print('Found %s unique tokens.' % len(word_index))\n",
    "\n",
    "data = pad_sequences(sequences, maxlen=MAX_SEQUENCE_LENGTH)\n",
    "\n",
    "labels = to_categorical(np.asarray(train['voted_up']))\n",
    "print(data.shape)\n",
    "print(labels.shape)"
   ]
  },
  {
   "cell_type": "code",
   "execution_count": 20,
   "metadata": {},
   "outputs": [
    {
     "name": "stdout",
     "output_type": "stream",
     "text": [
      "WARNING:tensorflow:From /usr/local/lib/python3.7/site-packages/keras/backend/tensorflow_backend.py:74: The name tf.get_default_graph is deprecated. Please use tf.compat.v1.get_default_graph instead.\n",
      "\n"
     ]
    }
   ],
   "source": [
    "from keras.layers import Embedding\n",
    "from keras.initializers import Constant\n",
    "EMBEDDING_DIM = embeddings_index.get('a').shape[0]\n",
    "num_words = min(MAX_NUM_WORDS, len(word_index)) + 1\n",
    "embedding_matrix = np.zeros((num_words, EMBEDDING_DIM))\n",
    "for word, i in word_index.items():\n",
    "    if i > MAX_NUM_WORDS:\n",
    "        continue\n",
    "    embedding_vector = embeddings_index.get(word) ## This references the loaded embeddings dictionary\n",
    "    if embedding_vector is not None:\n",
    "        # words not found in embedding index will be all-zeros.\n",
    "        embedding_matrix[i] = embedding_vector\n",
    "\n",
    "# load pre-trained word embeddings into an Embedding layer\n",
    "# note that we set trainable = False so as to keep the embeddings fixed\n",
    "embedding_layer = Embedding(num_words,\n",
    "                            EMBEDDING_DIM,\n",
    "                            embeddings_initializer=Constant(embedding_matrix),\n",
    "                            input_length=MAX_SEQUENCE_LENGTH,\n",
    "                            trainable=False)"
   ]
  },
  {
   "cell_type": "code",
   "execution_count": 21,
   "metadata": {},
   "outputs": [
    {
     "name": "stdout",
     "output_type": "stream",
     "text": [
      "(1001, 300)\n"
     ]
    },
    {
     "data": {
      "text/plain": [
       "Text(0.5, 1.0, 'example vectors')"
      ]
     },
     "execution_count": 21,
     "metadata": {},
     "output_type": "execute_result"
    },
    {
     "data": {
      "image/png": "[encoded data removed]",
      "text/plain": [
       "<Figure size 432x288 with 1 Axes>"
      ]
     },
     "metadata": {
      "needs_background": "light"
     },
     "output_type": "display_data"
    }
   ],
   "source": [
    "print(embedding_matrix.shape)\n",
    "plt.plot(embedding_matrix[16])\n",
    "plt.plot(embedding_matrix[37])\n",
    "plt.plot(embedding_matrix[18])\n",
    "plt.title('example vectors')"
   ]
  },
  {
   "cell_type": "code",
   "execution_count": 22,
   "metadata": {},
   "outputs": [
    {
     "name": "stdout",
     "output_type": "stream",
     "text": [
      "WARNING:tensorflow:From /usr/local/lib/python3.7/site-packages/keras/backend/tensorflow_backend.py:517: The name tf.placeholder is deprecated. Please use tf.compat.v1.placeholder instead.\n",
      "\n",
      "WARNING:tensorflow:From /usr/local/lib/python3.7/site-packages/keras/backend/tensorflow_backend.py:4138: The name tf.random_uniform is deprecated. Please use tf.random.uniform instead.\n",
      "\n",
      "WARNING:tensorflow:From /usr/local/lib/python3.7/site-packages/keras/backend/tensorflow_backend.py:174: The name tf.get_default_session is deprecated. Please use tf.compat.v1.get_default_session instead.\n",
      "\n",
      "WARNING:tensorflow:From /usr/local/lib/python3.7/site-packages/keras/backend/tensorflow_backend.py:181: The name tf.ConfigProto is deprecated. Please use tf.compat.v1.ConfigProto instead.\n",
      "\n",
      "WARNING:tensorflow:From /usr/local/lib/python3.7/site-packages/keras/backend/tensorflow_backend.py:3445: calling dropout (from tensorflow.python.ops.nn_ops) with keep_prob is deprecated and will be removed in a future version.\n",
      "Instructions for updating:\n",
      "Please use `rate` instead of `keep_prob`. Rate should be set to `rate = 1 - keep_prob`.\n",
      "WARNING:tensorflow:From /usr/local/lib/python3.7/site-packages/keras/backend/tensorflow_backend.py:3976: The name tf.nn.max_pool is deprecated. Please use tf.nn.max_pool2d instead.\n",
      "\n",
      "WARNING:tensorflow:From /usr/local/lib/python3.7/site-packages/keras/optimizers.py:790: The name tf.train.Optimizer is deprecated. Please use tf.compat.v1.train.Optimizer instead.\n",
      "\n",
      "WARNING:tensorflow:From /usr/local/lib/python3.7/site-packages/tensorflow/python/ops/nn_impl.py:180: add_dispatch_support.<locals>.wrapper (from tensorflow.python.ops.array_ops) is deprecated and will be removed in a future version.\n",
      "Instructions for updating:\n",
      "Use tf.where in 2.0, which has the same broadcast rule as np.where\n"
     ]
    }
   ],
   "source": [
    "from keras.models import Sequential\n",
    "from keras.layers import Dense, Flatten, LSTM, Conv1D, MaxPooling1D, Dropout, Activation\n",
    "\n",
    "model = Sequential()\n",
    "model.add(Embedding(num_words, 300, input_length=100, weights= [embedding_matrix], trainable=False))\n",
    "\n",
    "model.add(Dropout(0.2))\n",
    "model.add(Conv1D(64, 5, activation='relu'))\n",
    "model.add(MaxPooling1D(pool_size=4))\n",
    "model.add(LSTM(100))\n",
    "model.add(Dense(2, activation='sigmoid'))\n",
    "\n",
    "model.compile(loss='binary_crossentropy', optimizer='adam', metrics=['accuracy'])"
   ]
  },
  {
   "cell_type": "code",
   "execution_count": 23,
   "metadata": {},
   "outputs": [
    {
     "name": "stdout",
     "output_type": "stream",
     "text": [
      "(14036, 2)\n",
      "Train on 12632 samples, validate on 1404 samples\n",
      "Epoch 1/1\n",
      "12632/12632 [==============================] - 40s 3ms/step - loss: 0.3541 - acc: 0.8597 - val_loss: 0.3237 - val_acc: 0.8697\n"
     ]
    },
    {
     "data": {
      "text/plain": [
       "<keras.callbacks.History at 0x134fdb810>"
      ]
     },
     "execution_count": 23,
     "metadata": {},
     "output_type": "execute_result"
    }
   ],
   "source": [
    "print(labels.shape)\n",
    "model.fit(data, np.array(labels), validation_split=0.1, epochs = 1)"
   ]
  },
  {
   "cell_type": "code",
   "execution_count": 24,
   "metadata": {},
   "outputs": [
    {
     "data": {
      "text/plain": [
       "[<matplotlib.lines.Line2D at 0x137b69c90>]"
      ]
     },
     "execution_count": 24,
     "metadata": {},
     "output_type": "execute_result"
    },
    {
     "data": {
      "image/png": "[encoded data removed]",
      "text/plain": [
       "<Figure size 432x288 with 1 Axes>"
      ]
     },
     "metadata": {
      "needs_background": "light"
     },
     "output_type": "display_data"
    }
   ],
   "source": [
    "from sklearn.manifold import TSNE\n",
    "## Get weights\n",
    "embds = model.layers[0].get_weights()[0]\n",
    "## Plotting function\n",
    "## Visualize words in two dimensions \n",
    "tsne_embds = TSNE(n_components=2).fit_transform(embds)\n",
    "\n",
    "plt.plot(tsne_embds[:,0],tsne_embds[:,1],'.')"
   ]
  },
  {
   "cell_type": "code",
   "execution_count": null,
   "metadata": {},
   "outputs": [],
   "source": []
  }
 ],
 "metadata": {
  "kernelspec": {
   "display_name": "Python 3",
   "language": "python",
   "name": "python3"
  },
  "language_info": {
   "codemirror_mode": {
    "name": "ipython",
    "version": 3
   },
   "file_extension": ".py",
   "mimetype": "text/x-python",
   "name": "python",
   "nbconvert_exporter": "python",
   "pygments_lexer": "ipython3",
   "version": "3.7.4"
  }
 },
 "nbformat": 4,
 "nbformat_minor": 4
}
